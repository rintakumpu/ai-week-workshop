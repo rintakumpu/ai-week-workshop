{
 "cells": [
  {
   "cell_type": "markdown",
   "metadata": {},
   "source": [
    "# Turku AI Week Machine Learning Workshop \n",
    "\n",
    "## The Tutorial\n",
    "\n",
    "The actual project we’ll be going through together involves handwriting recognition, or more precisely recognizing handwritten numbers. This is done by building a machine learning model called neural network. We’ll be using [MNIST database](http://yann.lecun.com/exdb/mnist/) of handwritten digits to train and test our machine learning model. The end result will recognize numbers with a good accuracy.\n",
    "\n",
    "The project is roughly following the *[Chapter 1](http://neuralnetworksanddeeplearning.com/chap1.html)* of the book “Neural Networks and Deep Learning” by **Michael A. Nielsen** but also touches further chapters of that book. *Backpropagation* is not discussed in this tutorial as it's covered by the *[Chapter 2](http://neuralnetworksanddeeplearning.com/chap2.html)* of the book, but feel free to ask coaches about it and check how the backpropagation code works.\n",
    "\n",
    "**The outline of the tutorial is:**\n",
    "\n",
    "1. Understand what a neural network is (and isn't) and what it does.\n",
    "2. Understand different (hyper)parameters of a neural network.\n",
    "3. Run \"plain\" neural network code in Python.\n",
    "4. Understand how to evaluate the performance of a machine learning model, neural networks included.\n",
    "5. Try out different network parameters to see the effect on its performance.\n",
    "6. See how the neural network handles your own handwriting!\n",
    "7. If you have time, try out neural networks with [Keras](https://keras.io/).\n",
    "\n",
    "The paragraphs starting in <span style=\"color: red\"><b>bold red</b></span> are supposed to be explained by the coaches in the event."
   ]
  },
  {
   "cell_type": "markdown",
   "metadata": {},
   "source": [
    "### 1. What Is a Neural Network?\n",
    "\n",
    "Now you should've been finished listening to Ilmari's presentation on machine learning and neural networks. Here are some key concepts of neural networks, especially concepts we are using in our own network. Let's go through these basic neural network and machine learning concepts again. **Can you explain these concepts to your group?** The answers can be found from Nielsen's book (the images are in fact copied from there), but Wikipedia is also a good resource. So are the coaches. \n",
    "\n",
    "**Note!** Dont' spend too much time with these, the focus should be in doing. However, when running into something you don't understand when implementing the network these questions can point you into the right direction."
   ]
  },
  {
   "cell_type": "markdown",
   "metadata": {},
   "source": [
    "**a)** What's the difference between the following:\n",
    "* Training data\n",
    "* Validation data\n",
    "* Test data"
   ]
  },
  {
   "cell_type": "markdown",
   "metadata": {},
   "source": [
    "**b)** Below is an image of artifical neuron called *perceptron*. How does it work?\n",
    "\n",
    "![Perceptron](img/perceptron.png)"
   ]
  },
  {
   "cell_type": "markdown",
   "metadata": {},
   "source": [
    "**c)** Below is the functionality of a perceptron in function form. What are the different components of these equations?\n",
    "\n",
    "![Perceptron function](img/perceptron_function.png)"
   ]
  },
  {
   "cell_type": "markdown",
   "metadata": {},
   "source": [
    "**d)** How does the following function relate to neural networks? Why is it better than the function above? How is it written in equation form?\n",
    "\n",
    "![Sigmoid curve](img/sigmoid.png)"
   ]
  },
  {
   "cell_type": "markdown",
   "metadata": {},
   "source": [
    "**e)** Here's a diagram of a neural network. Make sure you understand the difference between different layers. When implementing the neural network for handwriting recognition below, think how that network would be represented in a similar diagram.\n",
    "\n",
    "![Neural network example](img/nn.png)"
   ]
  },
  {
   "cell_type": "markdown",
   "metadata": {},
   "source": [
    "**f)** What is stochastic gradient descent? Why is it called *stochastic*? How is it related to the equation below?\n",
    "\n",
    "![Mean Squared Error](img/mse.png)"
   ]
  },
  {
   "cell_type": "markdown",
   "metadata": {
    "collapsed": true
   },
   "source": [
    "<span style=\"color: red;\"><b>Coaches:</b></span> Help participants to grok these key concepts. Also make sure that the participants don't spend too much time on these. Fifteen minutes should be maximum."
   ]
  },
  {
   "cell_type": "markdown",
   "metadata": {},
   "source": [
    "### 2. The Parameters of Your Neural Network\n",
    "\n",
    "Let's start with the actual code here. The neural network is created and trained in two steps. Let's check the respective code (files `test.py` and `network.py`). Here's the code for creating a neural network object:"
   ]
  },
  {
   "cell_type": "markdown",
   "metadata": {},
   "source": [
    "`net = network.Network([784, 30, 10])`"
   ]
  },
  {
   "cell_type": "markdown",
   "metadata": {},
   "source": [
    "If you check the signature, it takes as an argument a vector of three values. These are the sizes of different layers of neural network. Why have we selected these parameters? Hint: Later we are trying to recognizing digits based on 28 by 28 pixel images.\n",
    "\n",
    "Next, let's check the method for stochastic gradient descent. Here's the signature:"
   ]
  },
  {
   "cell_type": "markdown",
   "metadata": {},
   "source": [
    "`def SGD(self, training_data, epochs, mini_batch_size, eta, test_data=None)`"
   ]
  },
  {
   "cell_type": "markdown",
   "metadata": {},
   "source": [
    "Make sure you have a rough understanding what parameters *epochs*, *mini_batch_size* and *eta* (that's parameter denoted by Greek $\\eta$) mean. You can try different values later on to see how it affects the performance of your network."
   ]
  },
  {
   "cell_type": "markdown",
   "metadata": {},
   "source": [
    "### 3. Run Neural Network Code in Python"
   ]
  },
  {
   "cell_type": "markdown",
   "metadata": {},
   "source": [
    "Before you start with the neural network you need to load the training data (the MNIST data set). There is a loader included in the Python code. You can use it as follows:"
   ]
  },
  {
   "cell_type": "code",
   "execution_count": 3,
   "metadata": {
    "collapsed": true
   },
   "outputs": [],
   "source": [
    "# Here we are using Python3 so let's add that directory\n",
    "# If you're running code straight from python3 or python2 directory you don't\n",
    "# need to run this\n",
    "import sys\n",
    "sys.path.insert(0, '/Users/rintakumpu/OneDrive - O365 Turun yliopisto/ai-week-workshop/python3')\n",
    "\n",
    "# Now we can import the loader and use it to read the data set\n",
    "# You can simply run this from the command line in the right directory\n",
    "# (that is wherever you cloned the neural network code)\n",
    "import mnist_loader\n",
    "training_data, validation_data, test_data = mnist_loader.load_data_wrapper()\n",
    "training_data = list(training_data)\n",
    "test_data = list(test_data)"
   ]
  },
  {
   "cell_type": "markdown",
   "metadata": {},
   "source": [
    "Now that we have loaded our training, validation and test data we can move on to train our network using these data sets."
   ]
  },
  {
   "cell_type": "code",
   "execution_count": 4,
   "metadata": {
    "collapsed": true
   },
   "outputs": [],
   "source": [
    "# This loads the neural network discussed in the Chapter 1 of the Neural Networks and Deep Learning book\n",
    "import network"
   ]
  },
  {
   "cell_type": "markdown",
   "metadata": {},
   "source": [
    "**Before proceeding further**, open the corresponding Python file `network.py` and try to figure out how it works. In pairs, try to explain this to each other. Once you have a pretty good grasp on how this program functions, try creating an object based on the class included in the file. Neural networks used here require Python [NumPy](http://www.numpy.org/) library. If you have installed Anaconda, you should already have this library installed on your machine."
   ]
  },
  {
   "cell_type": "code",
   "execution_count": 5,
   "metadata": {
    "collapsed": true
   },
   "outputs": [],
   "source": [
    "net = network.Network([784, 30, 10])"
   ]
  },
  {
   "cell_type": "markdown",
   "metadata": {},
   "source": [
    "Once you have the object created, check out the stochastic gradient descent method (`SGD`) within the class. See what parameters it takes so that you have an idea what's happening on the line below. Inputing test data as a parameter will evaluate the performance of the network after each epoch, making the training slower. If it's too slow, remove the test data parameter."
   ]
  },
  {
   "cell_type": "code",
   "execution_count": 6,
   "metadata": {},
   "outputs": [
    {
     "name": "stdout",
     "output_type": "stream",
     "text": [
      "Epoch 0 : 9117 / 10000\n",
      "Epoch 1 : 9250 / 10000\n",
      "Epoch 2 : 9323 / 10000\n",
      "Epoch 3 : 9354 / 10000\n",
      "Epoch 4 : 9368 / 10000\n",
      "Epoch 5 : 9378 / 10000\n",
      "Epoch 6 : 9360 / 10000\n",
      "Epoch 7 : 9413 / 10000\n",
      "Epoch 8 : 9427 / 10000\n",
      "Epoch 9 : 9399 / 10000\n",
      "Epoch 10 : 9460 / 10000\n",
      "Epoch 11 : 9439 / 10000\n",
      "Epoch 12 : 9457 / 10000\n",
      "Epoch 13 : 9443 / 10000\n",
      "Epoch 14 : 9451 / 10000\n",
      "Epoch 15 : 9471 / 10000\n",
      "Epoch 16 : 9440 / 10000\n",
      "Epoch 17 : 9454 / 10000\n",
      "Epoch 18 : 9443 / 10000\n",
      "Epoch 19 : 9466 / 10000\n",
      "Epoch 20 : 9475 / 10000\n",
      "Epoch 21 : 9449 / 10000\n",
      "Epoch 22 : 9471 / 10000\n",
      "Epoch 23 : 9468 / 10000\n",
      "Epoch 24 : 9503 / 10000\n",
      "Epoch 25 : 9495 / 10000\n",
      "Epoch 26 : 9431 / 10000\n",
      "Epoch 27 : 9483 / 10000\n",
      "Epoch 28 : 9483 / 10000\n",
      "Epoch 29 : 9484 / 10000\n"
     ]
    }
   ],
   "source": [
    "net.SGD(training_data, 30, 10, 3.0, test_data=test_data)"
   ]
  },
  {
   "cell_type": "markdown",
   "metadata": {},
   "source": [
    "### 4. Evaluating The Performance of Your Neural Network"
   ]
  },
  {
   "cell_type": "markdown",
   "metadata": {},
   "source": [
    "Once the network has trained for the 30 epochs (or whatever you had inputted as a parameter!), it's time to evaluate network's performance. Let's run:"
   ]
  },
  {
   "cell_type": "code",
   "execution_count": 7,
   "metadata": {},
   "outputs": [
    {
     "data": {
      "text/plain": [
       "9484"
      ]
     },
     "execution_count": 7,
     "metadata": {},
     "output_type": "execute_result"
    }
   ],
   "source": [
    "net.evaluate(test_data)"
   ]
  },
  {
   "cell_type": "markdown",
   "metadata": {},
   "source": [
    "Based on this measure, how well did the neural network fare? If you used `test_data` parameter when training the network, how much did the number of epochs affect the classification accuracy?\n",
    "\n",
    "<span style=\"color: red;\"><b>Coaches:</b></span> Discuss accuracy and other measures of goodness. Mention overfitting too.\n"
   ]
  },
  {
   "cell_type": "markdown",
   "metadata": {},
   "source": [
    "### 5. How Parameters Affect The Performance of Your Neural Network"
   ]
  },
  {
   "cell_type": "markdown",
   "metadata": {},
   "source": [
    "Try training the network with different parameters, see how this affects the training time and accuracy. You can also try out more complex types of neural networks found from files `network2.py` and `network3.py` to see how they compare. There's code to build all of these networks in the file `test.py`. There's also a network there that uses a library called [Theano](http://deeplearning.net/software/theano/) to optimize the performance. Try at your leisure!"
   ]
  },
  {
   "cell_type": "markdown",
   "metadata": {},
   "source": [
    "### 6. Use Neural Network to Identify Your Own Handwriting\n",
    "\n",
    "As you have probably already noticed, the neural network doesn't directly accept image input. It also requires the images entered to it to be of certain dimensionality (namely 28 by 28 = 784 pixels).\n",
    "\n",
    "In this section we'll work around this problem and see how our network actually works on our handwriting. I've written down and photographed my own phone number for this exercise. I've already turned it into grayscale and enhanced the contrast a bit.\n",
    "\n",
    "![0401968642](img/phone_number.jpg)\n",
    "\n",
    "Now, first we need a program to read the digits into the format accepted by our neural network. \n",
    "\n",
    "The network we trained only accepts 28x28 grayscale images of a single digit at the time. In order to make the image acceptable to the network, we need to split it up into one-digit parts. There are some statistical methods how to do this automatically, but here I've just gone down the manual route. This results with ten files I've named from `number0.jpg` to `number9.jpg`. \n",
    "\n",
    "![0](img/number0.jpg) ![4](img/number1.jpg) ![0](img/number2.jpg) ![1](img/number3.jpg) ![9](img/number4.jpg) ![6](img/number5.jpg) ![8](img/number6.jpg) ![6](img/number7.jpg) ![4](img/number8.jpg) ![2](img/number9.jpg)\n",
    "\n",
    "The numeral suffix of the file name of course doesn't have anything to do with the actual number contained in the file. \n",
    "\n",
    "<span style=\"color: red;\"><b>Coaches:</b></span> Present some ideas how you could do the image splitting automatically. As an additional excercise participants can explore these.\n",
    "\n",
    "Having created these ten files we can easily first rescale them to 28 by 28 pixels and then read the grayscale values into vectors of length 784 that can be used as an input for our neural networks. We're going to use functions from Python [Pillow](https://pillow.readthedocs.io/en/latest/#) library to manipulate the images. If you have Anaconda installed, you should already have this package. If not, with [pip](https://pypi.python.org/pypi/pip) packet manager installed you can install Pillow this simply by typing `pip install pillow` on command line."
   ]
  },
  {
   "cell_type": "code",
   "execution_count": 8,
   "metadata": {},
   "outputs": [],
   "source": [
    "from PIL import Image\n",
    "\n",
    "# First\n",
    "# Resize images to 28 by 28 pixels for neural network\n",
    "size = (28, 28)\n",
    "\n",
    "infile_list = []\n",
    "for i in range(0,10):\n",
    "    infile_list.append(\"img/number\"+str(i)+\".jpg\")\n",
    "    \n",
    "for infile in infile_list:\n",
    "    outfile = infile + \".thumbnail.jpg\"\n",
    "    if infile != outfile:\n",
    "        try:\n",
    "            im = Image.open(infile)\n",
    "            im = im.resize(size) # Resizes image\n",
    "            im = im.convert(mode=\"L\") # Converts to grayscale\n",
    "            im.save(outfile, \"JPEG\")\n",
    "        except IOError:\n",
    "            print(\"Cannot resize image\", infile)"
   ]
  },
  {
   "cell_type": "code",
   "execution_count": 9,
   "metadata": {
    "collapsed": true
   },
   "outputs": [],
   "source": [
    "# Next read the thumbnail files into vectors\n",
    "# We'll use imageio package https://pypi.python.org/pypi/imageio\n",
    "# to do this.\n",
    "\n",
    "# This is something you should already have installed on your machine (if you used Anaconda)\n",
    "# Otherwise run\n",
    "# pip install imageio \n",
    "# on the command line and/or consult the coaches\n",
    "\n",
    "import imageio\n",
    "from numpy import array\n",
    "from numpy import ravel\n",
    "from numpy import transpose\n",
    "from numpy import int64\n",
    "\n",
    "# Array for the phone number data\n",
    "phone_number_data = []\n",
    "phone_number_string = \"0401968642\"\n",
    "\n",
    "for i in range(0,10):\n",
    "    infile_this = \"img/number\" + str(i) + \".jpg.thumbnail.jpg\"\n",
    "    im = imageio.imread(infile_this)\n",
    "    im_vector = ravel(array([im])) # Vector of pixel grayscale values 0-255\n",
    "    # The neural network wants the data in decimal format:\n",
    "   \n",
    "    im_vector = transpose(array([((255-im_vector)/255)-0.3])) # Let's increase the contrast a bit.\n",
    "    im_vector[im_vector < 0] = 0\n",
    "    im_array = tuple([im_vector,int64(phone_number_string[i])])\n",
    "    \n",
    "    # Then let's add tuple into a list\n",
    "    phone_number_data.append(im_array)"
   ]
  },
  {
   "cell_type": "markdown",
   "metadata": {},
   "source": [
    "All the above code is a demonstration that when doing any kind of data science stuff, you have to spend a lot of time just wrangling your data into the right format. Let's check how the images of our numbers look now. Note that NumPy array's `shape` method is one of your best friends. It's advisable to check that you get the dimensionalities of your objects right every now and then, as these are often sources of errors when doing machine learning."
   ]
  },
  {
   "cell_type": "code",
   "execution_count": 58,
   "metadata": {},
   "outputs": [
    {
     "name": "stdout",
     "output_type": "stream",
     "text": [
      "(784, 1)\n"
     ]
    }
   ],
   "source": [
    "print(phone_number_data[0][0].shape)"
   ]
  },
  {
   "cell_type": "code",
   "execution_count": 59,
   "metadata": {},
   "outputs": [
    {
     "data": {
      "image/png": "[encoded data removed]",
      "text/plain": [
       "<matplotlib.figure.Figure at 0x1125993c8>"
      ]
     },
     "metadata": {},
     "output_type": "display_data"
    }
   ],
   "source": [
    "from numpy import reshape\n",
    "import matplotlib.pyplot as plt # import\n",
    "plt.imshow(phone_number_data[0][0].reshape((28,28))) # Let's reshape the vector to make it an \"image\" again\n",
    "plt.show()"
   ]
  },
  {
   "cell_type": "markdown",
   "metadata": {},
   "source": [
    "Now that we got our numbers into the format the neural network actually accepts, it's time to see how it performs."
   ]
  },
  {
   "cell_type": "code",
   "execution_count": 11,
   "metadata": {},
   "outputs": [
    {
     "data": {
      "text/plain": [
       "7"
      ]
     },
     "execution_count": 11,
     "metadata": {},
     "output_type": "execute_result"
    }
   ],
   "source": [
    "net.evaluate(phone_number_data)"
   ]
  },
  {
   "cell_type": "markdown",
   "metadata": {},
   "source": [
    "Without actually seeing a single specimen of my digits the network gets most of them right. \n",
    "**Why didn't it predict all of them correctly?** \n",
    "**Can you get your network to perform better?** \n",
    "Also, there doesn't seem to be a method for actually outputting the predictions made by the network. **Write one**."
   ]
  },
  {
   "cell_type": "markdown",
   "metadata": {},
   "source": [
    "### 7. Try Out Neural Networks with Keras\n",
    "\n",
    "Once you have downloaded and installed [Keras](https://keras.io) you can try replicating some of the neural networks you have been working on with this framework. Keras is not included in Anaconda distribution, so you have to get it yourself. If you have [pip](https://pypi.python.org/pypi/pip) packet manager installed you can do this simply by typing `pip install keras` on command line. You will also need [TensorFlow](https://www.tensorflow.org/), so get it by typing `pip install tensorflow`.\n",
    "\n",
    "Below is some Keras code to get you started. Figure out how it connects to the neural network you created before. The first code chunk creates and compiles the neural network."
   ]
  },
  {
   "cell_type": "code",
   "execution_count": 75,
   "metadata": {},
   "outputs": [],
   "source": [
    "from keras.models import Sequential\n",
    "from keras.layers import Dense, Activation\n",
    "\n",
    "model = Sequential()\n",
    "model.add(Dense(30, input_shape=(784,)))\n",
    "model.add(Dense(10, activation=\"sigmoid\"))\n",
    "model.add(Dense(10, activation=\"softmax\"))\n",
    "model.compile(optimizer='sgd',\n",
    "              loss='mean_squared_error',\n",
    "              metrics=['accuracy'])"
   ]
  },
  {
   "cell_type": "markdown",
   "metadata": {},
   "source": [
    "<span style=\"color:red;\"><b>Coaches:</b></span> Discuss different cost and activation functions plus network architectures. \n",
    "\n",
    "Next, we load the data. Note that the MNIST dataset is included in Keras and can be easily loaded from there. Again, have to do some data wrangling to get the input to conform."
   ]
  },
  {
   "cell_type": "code",
   "execution_count": 83,
   "metadata": {},
   "outputs": [],
   "source": [
    "from keras.datasets import mnist\n",
    "from keras import utils\n",
    "\n",
    "(x_train, y_train), (x_test, y_test) = mnist.load_data()\n",
    "x_train2 = [ravel(i)/255 for i in x_train]\n",
    "x_test2 = [ravel(i)/255 for i in x_test]\n",
    "x_train2 = array(x_train2)\n",
    "x_test2 = array(x_test2)\n",
    "\n",
    "y_train = keras.utils.to_categorical(y_train, 10)\n",
    "y_test = keras.utils.to_categorical(y_test, 10)"
   ]
  },
  {
   "cell_type": "markdown",
   "metadata": {},
   "source": [
    "Finally we can use the data to train the neural network. The Keras's output is a little more user-friendly. Here you can actually observe the network learning from the data! If the training is too slow, adjust the parameters and see what happens."
   ]
  },
  {
   "cell_type": "code",
   "execution_count": 90,
   "metadata": {},
   "outputs": [
    {
     "name": "stdout",
     "output_type": "stream",
     "text": [
      "Train on 60000 samples, validate on 10000 samples\n",
      "Epoch 1/10\n",
      "60000/60000 [==============================] - 69s 1ms/step - loss: 0.0120 - acc: 0.9246 - val_loss: 0.0124 - val_acc: 0.9222\n",
      "Epoch 2/10\n",
      "60000/60000 [==============================] - 73s 1ms/step - loss: 0.0119 - acc: 0.9258 - val_loss: 0.0122 - val_acc: 0.9218\n",
      "Epoch 3/10\n",
      "60000/60000 [==============================] - 75s 1ms/step - loss: 0.0117 - acc: 0.9269 - val_loss: 0.0123 - val_acc: 0.9196\n",
      "Epoch 4/10\n",
      "60000/60000 [==============================] - 80s 1ms/step - loss: 0.0116 - acc: 0.9272 - val_loss: 0.0122 - val_acc: 0.9232\n",
      "Epoch 5/10\n",
      "60000/60000 [==============================] - 78s 1ms/step - loss: 0.0115 - acc: 0.9281 - val_loss: 0.0121 - val_acc: 0.9229\n",
      "Epoch 6/10\n",
      "60000/60000 [==============================] - 74s 1ms/step - loss: 0.0114 - acc: 0.9286 - val_loss: 0.0120 - val_acc: 0.9231\n",
      "Epoch 7/10\n",
      "60000/60000 [==============================] - 67s 1ms/step - loss: 0.0113 - acc: 0.9297 - val_loss: 0.0120 - val_acc: 0.9227\n",
      "Epoch 8/10\n",
      "60000/60000 [==============================] - 68s 1ms/step - loss: 0.0112 - acc: 0.9302 - val_loss: 0.0119 - val_acc: 0.9228\n",
      "Epoch 9/10\n",
      "60000/60000 [==============================] - 92s 2ms/step - loss: 0.0111 - acc: 0.9307 - val_loss: 0.0118 - val_acc: 0.9231\n",
      "Epoch 10/10\n",
      "60000/60000 [==============================] - 81s 1ms/step - loss: 0.0110 - acc: 0.9312 - val_loss: 0.0116 - val_acc: 0.9251\n"
     ]
    },
    {
     "data": {
      "text/plain": [
       "<keras.callbacks.History at 0x1833343ac8>"
      ]
     },
     "execution_count": 90,
     "metadata": {},
     "output_type": "execute_result"
    }
   ],
   "source": [
    "batch_size = 1\n",
    "epochs = 10\n",
    "model.fit(x_train2, y_train,\n",
    "          batch_size=batch_size,\n",
    "          epochs=epochs,\n",
    "          verbose=1,\n",
    "          validation_data=(x_test2, y_test))"
   ]
  },
  {
   "cell_type": "markdown",
   "metadata": {},
   "source": [
    "How did it compare to your previous network? What were the differences in network architecture? Now that you have some experience with Keras, if you want explore this or other problems further with it, there are plenty of [official examples](https://github.com/keras-team/keras/tree/master/examples) available. You can also try identifying your own handwriting with this model."
   ]
  },
  {
   "cell_type": "markdown",
   "metadata": {
    "collapsed": true
   },
   "source": [
    "<b>If you reached this far, congratulations!</b> Now you should have a pretty good grasp of general principles of machine learning in general and neural networks in particular. Remember that machine learning is much more than neural networks and deep learning. More important than the method or algorithm used is that you get good results out of your project.\n",
    "\n",
    "<b>Where to go next?</b> \n",
    "TODO: Add some further resources here. For more indepth\n",
    "machine learning resources / tutorials, you can check\n",
    "https://github.com/ujjwalkarn/MachineLearningTutorials\n",
    ". That’s a huge list though, so it could feel a bit overwhelming. The most important thing is to select a topic that interests you! \n",
    "https://eu.udacity.com/course/deep-learning--ud730\n",
    "Also, the MOOC courses run by Andrew Ng have (and having completed these I can personally attest to this). This is his classical machine learning course https://www.coursera.org/learn/machine-learning and is actually what got me started with machine learning in the first place. \n",
    "\n",
    "And here are some of his: ***https://www.coursera.org/specializations/deep-learning deep learning. After *** you should be familiar with these concepts and the "
   ]
  },
  {
   "cell_type": "code",
   "execution_count": null,
   "metadata": {
    "collapsed": true
   },
   "outputs": [],
   "source": []
  }
 ],
 "metadata": {
  "kernelspec": {
   "display_name": "Python 3",
   "language": "python",
   "name": "python3"
  },
  "language_info": {
   "codemirror_mode": {
    "name": "ipython",
    "version": 3
   },
   "file_extension": ".py",
   "mimetype": "text/x-python",
   "name": "python",
   "nbconvert_exporter": "python",
   "pygments_lexer": "ipython3",
   "version": "3.6.3"
  }
 },
 "nbformat": 4,
 "nbformat_minor": 2
}
